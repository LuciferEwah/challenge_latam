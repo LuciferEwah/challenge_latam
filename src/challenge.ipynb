{
 "cells": [
  {
   "cell_type": "markdown",
   "metadata": {},
   "source": [
    "En este archivo puedes escribir lo que estimes conveniente. Te recomendamos detallar tu solución y todas las suposiciones que estás considerando. Aquí puedes ejecutar las funciones que definiste en los otros archivos de la carpeta src, medir el tiempo, memoria, etc."
   ]
  },
  {
   "cell_type": "code",
   "execution_count": 5,
   "metadata": {},
   "outputs": [],
   "source": [
    "import time\n",
    "from memory_profiler import memory_usage\n",
    "from q1_memory import q1_memory\n",
    "from q1_time import q1_time"
   ]
  },
  {
   "cell_type": "code",
   "execution_count": 2,
   "metadata": {},
   "outputs": [],
   "source": [
    "# Define the path to the JSONL file\n",
    "file_path = r\"C:\\Users\\Luci\\Documents\\GitHub\\challenge_latam\\src\\farmers-protest-tweets-2021-2-4.json\""
   ]
  },
  {
   "cell_type": "code",
   "execution_count": 3,
   "metadata": {},
   "outputs": [
    {
     "name": "stdout",
     "output_type": "stream",
     "text": [
      "✅ Archivo JSONL leído exitosamente.\n",
      "\n",
      "⏱️ Tiempo de ejecución: 10.19 segundos\n",
      "✅ Archivo JSONL leído exitosamente.\n",
      "📊 Uso máximo de memoria: 168.8125 MiB\n",
      "\n",
      "Top 10 Fechas con más Tweets y Usuario con más actividad:\n",
      "[(datetime.date(2021, 2, 12), 'RanbirS00614606'), (datetime.date(2021, 2, 13), 'MaanDee08215437'), (datetime.date(2021, 2, 17), 'RaaJVinderkaur'), (datetime.date(2021, 2, 16), 'jot__b'), (datetime.date(2021, 2, 14), 'rebelpacifist'), (datetime.date(2021, 2, 18), 'neetuanjle_nitu'), (datetime.date(2021, 2, 15), 'jot__b'), (datetime.date(2021, 2, 20), 'MangalJ23056160'), (datetime.date(2021, 2, 23), 'Surrypuria'), (datetime.date(2021, 2, 19), 'Preetm91')]\n"
     ]
    }
   ],
   "source": [
    "# Define a wrapper function to run the optimized function\n",
    "def run_q1_memory():\n",
    "    return q1_memory(file_path)\n",
    "\n",
    "# Measure execution time\n",
    "start_time = time.time()\n",
    "top_dates_memory_df = run_q1_memory()\n",
    "end_time = time.time()\n",
    "execution_time = end_time - start_time\n",
    "print(f\"\\n⏱️ Tiempo de ejecución: {execution_time:.2f} segundos\")\n",
    "mem_usage = memory_usage(run_q1_memory, interval=1, max_iterations=1)  # This calls q1_memory internally\n",
    "print(f\"📊 Uso máximo de memoria: {max(mem_usage)} MiB\")\n",
    "\n",
    "# Show results\n",
    "print(\"\\nTop 10 Fechas con más Tweets y Usuario con más actividad:\")\n",
    "print(top_dates_memory_df)\n"
   ]
  },
  {
   "cell_type": "code",
   "execution_count": 4,
   "metadata": {},
   "outputs": [
    {
     "name": "stdout",
     "output_type": "stream",
     "text": [
      "✅ Archivo JSONL leído exitosamente.\n",
      "\n",
      "⏱️ Tiempo de ejecución: 1.36 segundos\n",
      "📊 Uso máximo de memoria: 281.21875 MiB\n",
      "✅ Archivo JSONL leído exitosamente.\n",
      "\n",
      "Top 10 Fechas con más Tweets y Usuario con más actividad:\n",
      "[(datetime.date(2021, 2, 12), 'RanbirS00614606'), (datetime.date(2021, 2, 13), 'MaanDee08215437'), (datetime.date(2021, 2, 17), 'RaaJVinderkaur'), (datetime.date(2021, 2, 16), 'jot__b'), (datetime.date(2021, 2, 14), 'rebelpacifist'), (datetime.date(2021, 2, 18), 'neetuanjle_nitu'), (datetime.date(2021, 2, 15), 'jot__b'), (datetime.date(2021, 2, 20), 'MangalJ23056160'), (datetime.date(2021, 2, 23), 'Surrypuria'), (datetime.date(2021, 2, 19), 'Preetm91')]\n"
     ]
    }
   ],
   "source": [
    "# Definir una función wrapper para medir memoria y tiempo\n",
    "def run_dask_analysis():\n",
    "    return q1_time(file_path)\n",
    "\n",
    "# Medir el tiempo de ejecución\n",
    "start_time = time.time()\n",
    "mem_usage = memory_usage(run_dask_analysis, interval=1, max_iterations=1)\n",
    "execution_time = time.time() - start_time\n",
    "\n",
    "# Mostrar resultados de análisis de memoria y tiempo\n",
    "print(f\"\\n⏱️ Tiempo de ejecución: {execution_time:.2f} segundos\")\n",
    "print(f\"📊 Uso máximo de memoria: {max(mem_usage)} MiB\")\n",
    "\n",
    "# Mostrar el DataFrame con los resultados\n",
    "top_dates_memory_df = run_dask_analysis()\n",
    "print(\"\\nTop 10 Fechas con más Tweets y Usuario con más actividad:\")\n",
    "print(top_dates_memory_df)\n"
   ]
  }
 ],
 "metadata": {
  "kernelspec": {
   "display_name": "Python 3",
   "language": "python",
   "name": "python3"
  },
  "language_info": {
   "codemirror_mode": {
    "name": "ipython",
    "version": 3
   },
   "file_extension": ".py",
   "mimetype": "text/x-python",
   "name": "python",
   "nbconvert_exporter": "python",
   "pygments_lexer": "ipython3",
   "version": "3.12.6"
  },
  "orig_nbformat": 4
 },
 "nbformat": 4,
 "nbformat_minor": 2
}
