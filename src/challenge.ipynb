{
 "cells": [
  {
   "cell_type": "markdown",
   "metadata": {},
   "source": [
    "En este archivo puedes escribir lo que estimes conveniente. Te recomendamos detallar tu solución y todas las suposiciones que estás considerando. Aquí puedes ejecutar las funciones que definiste en los otros archivos de la carpeta src, medir el tiempo, memoria, etc."
   ]
  },
  {
   "cell_type": "code",
   "execution_count": 1,
   "metadata": {},
   "outputs": [
    {
     "name": "stderr",
     "output_type": "stream",
     "text": [
      "c:\\Users\\Luci\\AppData\\Local\\Programs\\Python\\Python312\\Lib\\site-packages\\dask\\dataframe\\__init__.py:42: FutureWarning: \n",
      "Dask dataframe query planning is disabled because dask-expr is not installed.\n",
      "\n",
      "You can install it with `pip install dask[dataframe]` or `conda install dask`.\n",
      "This will raise in a future version.\n",
      "\n",
      "  warnings.warn(msg, FutureWarning)\n"
     ]
    }
   ],
   "source": [
    "import polars as pl\n",
    "from typing import List, Tuple\n",
    "import time\n",
    "from datetime import datetime\n",
    "from memory_profiler import memory_usage\n",
    "from q1_memory import q1_memory\n",
    "from q1_time import q1_time"
   ]
  },
  {
   "cell_type": "code",
   "execution_count": 2,
   "metadata": {},
   "outputs": [],
   "source": [
    "# Define the path to the JSONL file\n",
    "file_path = r\"C:\\Users\\Luci\\Documents\\GitHub\\challenge_latam\\src\\farmers-protest-tweets-2021-2-4.json\""
   ]
  },
  {
   "cell_type": "code",
   "execution_count": 3,
   "metadata": {},
   "outputs": [
    {
     "name": "stdout",
     "output_type": "stream",
     "text": [
      "✅ Archivo JSONL leído exitosamente.\n",
      "\n",
      "⏱️ Tiempo de ejecución: 8.78 segundos\n",
      "✅ Archivo JSONL leído exitosamente.\n",
      "📊 Uso máximo de memoria: 167.171875 MiB\n",
      "\n",
      "Top 10 Fechas con más Tweets y Usuario con más actividad:\n",
      "        Fecha Usuario con más tweets  Número de tweets\n",
      "0  2021-02-12        RanbirS00614606               176\n",
      "1  2021-02-13        MaanDee08215437               178\n",
      "2  2021-02-17         RaaJVinderkaur               185\n",
      "3  2021-02-16                 jot__b               133\n",
      "4  2021-02-14          rebelpacifist               119\n",
      "5  2021-02-18        neetuanjle_nitu               195\n",
      "6  2021-02-15                 jot__b               134\n",
      "7  2021-02-20        MangalJ23056160               108\n",
      "8  2021-02-23             Surrypuria               135\n",
      "9  2021-02-19               Preetm91               267\n"
     ]
    }
   ],
   "source": [
    "# Define a wrapper function to run the optimized function\n",
    "def run_q1_memory():\n",
    "    return q1_memory(file_path)\n",
    "\n",
    "# Measure execution time\n",
    "start_time = time.time()\n",
    "top_dates_memory_df = run_q1_memory()\n",
    "end_time = time.time()\n",
    "execution_time = end_time - start_time\n",
    "print(f\"\\n⏱️ Tiempo de ejecución: {execution_time:.2f} segundos\")\n",
    "\n",
    "mem_usage = memory_usage(run_q1_memory, interval=1, max_iterations=1)  # This calls q1_memory internally\n",
    "print(f\"📊 Uso máximo de memoria: {max(mem_usage)} MiB\")\n",
    "\n",
    "# Show results\n",
    "print(\"\\nTop 10 Fechas con más Tweets y Usuario con más actividad:\")\n",
    "print(top_dates_memory_df)\n"
   ]
  },
  {
   "cell_type": "code",
   "execution_count": 4,
   "metadata": {},
   "outputs": [
    {
     "name": "stdout",
     "output_type": "stream",
     "text": [
      "✅ Archivo JSONL leído exitosamente.\n",
      "✅ Campo 'username' procesado correctamente.\n",
      "✅ Columna 'date' parseada correctamente.\n",
      "\n",
      "✅ Agrupación por 'date_only' y 'username_filled' realizada correctamente.\n",
      "✅ Agrupación por 'date_only' para obtener totales realizada correctamente.\n",
      "✅ Top 10 fechas con más tweets: [datetime.date(2021, 2, 12), datetime.date(2021, 2, 13), datetime.date(2021, 2, 17), datetime.date(2021, 2, 16), datetime.date(2021, 2, 14), datetime.date(2021, 2, 18), datetime.date(2021, 2, 15), datetime.date(2021, 2, 20), datetime.date(2021, 2, 23), datetime.date(2021, 2, 19)]\n",
      "\n",
      "⏱️ Tiempo de ejecución: 1.33 segundos\n",
      "📊 Uso máximo de memoria: 277.07421875 MiB\n",
      "✅ Archivo JSONL leído exitosamente.\n",
      "✅ Campo 'username' procesado correctamente.\n",
      "✅ Columna 'date' parseada correctamente.\n",
      "\n",
      "✅ Agrupación por 'date_only' y 'username_filled' realizada correctamente.\n",
      "✅ Agrupación por 'date_only' para obtener totales realizada correctamente.\n",
      "✅ Top 10 fechas con más tweets: [datetime.date(2021, 2, 12), datetime.date(2021, 2, 13), datetime.date(2021, 2, 17), datetime.date(2021, 2, 16), datetime.date(2021, 2, 14), datetime.date(2021, 2, 18), datetime.date(2021, 2, 15), datetime.date(2021, 2, 20), datetime.date(2021, 2, 23), datetime.date(2021, 2, 19)]\n",
      "\n",
      "Top 10 Fechas con más Tweets y Usuario con más actividad:\n",
      "shape: (10, 3)\n",
      "┌────────────┬────────────────────────┬──────────────────┐\n",
      "│ Fecha      ┆ Usuario con más tweets ┆ Número de tweets │\n",
      "│ ---        ┆ ---                    ┆ ---              │\n",
      "│ date       ┆ str                    ┆ i64              │\n",
      "╞════════════╪════════════════════════╪══════════════════╡\n",
      "│ 2021-02-12 ┆ RanbirS00614606        ┆ 176              │\n",
      "│ 2021-02-13 ┆ MaanDee08215437        ┆ 178              │\n",
      "│ 2021-02-17 ┆ RaaJVinderkaur         ┆ 185              │\n",
      "│ 2021-02-16 ┆ jot__b                 ┆ 133              │\n",
      "│ 2021-02-14 ┆ rebelpacifist          ┆ 119              │\n",
      "│ 2021-02-18 ┆ neetuanjle_nitu        ┆ 195              │\n",
      "│ 2021-02-15 ┆ jot__b                 ┆ 134              │\n",
      "│ 2021-02-20 ┆ MangalJ23056160        ┆ 108              │\n",
      "│ 2021-02-23 ┆ Surrypuria             ┆ 135              │\n",
      "│ 2021-02-19 ┆ Preetm91               ┆ 267              │\n",
      "└────────────┴────────────────────────┴──────────────────┘\n"
     ]
    }
   ],
   "source": [
    "# Definir una función wrapper para medir memoria y tiempo\n",
    "def run_dask_analysis():\n",
    "    return q1_time(file_path)\n",
    "\n",
    "# Medir el tiempo de ejecución\n",
    "start_time = time.time()\n",
    "mem_usage = memory_usage(run_dask_analysis, interval=1, max_iterations=1)\n",
    "execution_time = time.time() - start_time\n",
    "\n",
    "# Mostrar resultados de análisis de memoria y tiempo\n",
    "print(f\"\\n⏱️ Tiempo de ejecución: {execution_time:.2f} segundos\")\n",
    "print(f\"📊 Uso máximo de memoria: {max(mem_usage)} MiB\")\n",
    "\n",
    "# Mostrar el DataFrame con los resultados\n",
    "top_dates_memory_df = run_dask_analysis()\n",
    "print(\"\\nTop 10 Fechas con más Tweets y Usuario con más actividad:\")\n",
    "print(top_dates_memory_df)\n"
   ]
  }
 ],
 "metadata": {
  "kernelspec": {
   "display_name": "Python 3",
   "language": "python",
   "name": "python3"
  },
  "language_info": {
   "codemirror_mode": {
    "name": "ipython",
    "version": 3
   },
   "file_extension": ".py",
   "mimetype": "text/x-python",
   "name": "python",
   "nbconvert_exporter": "python",
   "pygments_lexer": "ipython3",
   "version": "3.12.6"
  },
  "orig_nbformat": 4
 },
 "nbformat": 4,
 "nbformat_minor": 2
}
