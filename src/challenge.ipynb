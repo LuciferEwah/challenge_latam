{
 "cells": [
  {
   "cell_type": "markdown",
   "metadata": {},
   "source": [
    "En este archivo puedes escribir lo que estimes conveniente. Te recomendamos detallar tu solución y todas las suposiciones que estás considerando. Aquí puedes ejecutar las funciones que definiste en los otros archivos de la carpeta src, medir el tiempo, memoria, etc."
   ]
  },
  {
   "cell_type": "code",
   "execution_count": 6,
   "metadata": {},
   "outputs": [],
   "source": [
    "import polars as pl\n",
    "from typing import List, Tuple\n",
    "import time\n",
    "from datetime import datetime\n",
    "from memory_profiler import memory_usage\n",
    "from q1_memory import q1_memory"
   ]
  },
  {
   "cell_type": "code",
   "execution_count": 7,
   "metadata": {},
   "outputs": [
    {
     "name": "stdout",
     "output_type": "stream",
     "text": [
      "✅ Archivo JSONL leído exitosamente.\n",
      "✅ Campo 'username' procesado correctamente.\n",
      "✅ Columna 'date' parseada correctamente.\n",
      "\n",
      "✅ Agrupación por 'date_only' y 'username_filled' realizada correctamente.\n",
      "✅ Agrupación por 'date_only' para obtener totales realizada correctamente.\n",
      "✅ Top 10 fechas con más tweets: [datetime.date(2021, 2, 12), datetime.date(2021, 2, 13), datetime.date(2021, 2, 17), datetime.date(2021, 2, 16), datetime.date(2021, 2, 14), datetime.date(2021, 2, 18), datetime.date(2021, 2, 15), datetime.date(2021, 2, 20), datetime.date(2021, 2, 23), datetime.date(2021, 2, 19)]\n",
      "\n",
      "⏱️ Tiempo de ejecución: 0.70 segundos\n",
      "✅ Archivo JSONL leído exitosamente.\n",
      "✅ Campo 'username' procesado correctamente.\n",
      "✅ Columna 'date' parseada correctamente.\n",
      "\n",
      "✅ Agrupación por 'date_only' y 'username_filled' realizada correctamente.\n",
      "✅ Agrupación por 'date_only' para obtener totales realizada correctamente.\n",
      "✅ Top 10 fechas con más tweets: [datetime.date(2021, 2, 12), datetime.date(2021, 2, 13), datetime.date(2021, 2, 17), datetime.date(2021, 2, 16), datetime.date(2021, 2, 14), datetime.date(2021, 2, 18), datetime.date(2021, 2, 15), datetime.date(2021, 2, 20), datetime.date(2021, 2, 23), datetime.date(2021, 2, 19)]\n",
      "📊 Uso máximo de memoria: 247.3515625 MiB\n",
      "\n",
      "Top 10 Fechas con más Tweets y Usuario con más actividad:\n",
      "shape: (10, 3)\n",
      "┌────────────┬────────────────────────┬──────────────────┐\n",
      "│ Fecha      ┆ Usuario con más tweets ┆ Número de tweets │\n",
      "│ ---        ┆ ---                    ┆ ---              │\n",
      "│ date       ┆ str                    ┆ i64              │\n",
      "╞════════════╪════════════════════════╪══════════════════╡\n",
      "│ 2021-02-12 ┆ RanbirS00614606        ┆ 176              │\n",
      "│ 2021-02-13 ┆ MaanDee08215437        ┆ 178              │\n",
      "│ 2021-02-17 ┆ RaaJVinderkaur         ┆ 185              │\n",
      "│ 2021-02-16 ┆ jot__b                 ┆ 133              │\n",
      "│ 2021-02-14 ┆ rebelpacifist          ┆ 119              │\n",
      "│ 2021-02-18 ┆ neetuanjle_nitu        ┆ 195              │\n",
      "│ 2021-02-15 ┆ jot__b                 ┆ 134              │\n",
      "│ 2021-02-20 ┆ MangalJ23056160        ┆ 108              │\n",
      "│ 2021-02-23 ┆ Surrypuria             ┆ 135              │\n",
      "│ 2021-02-19 ┆ Preetm91               ┆ 267              │\n",
      "└────────────┴────────────────────────┴──────────────────┘\n"
     ]
    }
   ],
   "source": [
    "\n",
    "\n",
    "# Define the path to the JSONL file\n",
    "file_path = r\"C:\\Users\\Luci\\Documents\\GitHub\\challenge_latam\\src\\farmers-protest-tweets-2021-2-4.json\"\n",
    "\n",
    "# Define a wrapper function to run the optimized function\n",
    "def run_q1_memory():\n",
    "    return q1_memory(file_path)\n",
    "\n",
    "# Measure execution time\n",
    "start_time = time.time()\n",
    "top_dates_memory_df = run_q1_memory()\n",
    "end_time = time.time()\n",
    "execution_time = end_time - start_time\n",
    "print(f\"\\n⏱️ Tiempo de ejecución: {execution_time:.2f} segundos\")\n",
    "\n",
    "mem_usage = memory_usage(run_q1_memory, interval=1, max_iterations=1)  # This calls q1_memory internally\n",
    "print(f\"📊 Uso máximo de memoria: {max(mem_usage)} MiB\")\n",
    "\n",
    "# Show results\n",
    "print(\"\\nTop 10 Fechas con más Tweets y Usuario con más actividad:\")\n",
    "print(top_dates_memory_df)\n"
   ]
  },
  {
   "cell_type": "code",
   "execution_count": null,
   "metadata": {},
   "outputs": [],
   "source": []
  }
 ],
 "metadata": {
  "kernelspec": {
   "display_name": "Python 3",
   "language": "python",
   "name": "python3"
  },
  "language_info": {
   "codemirror_mode": {
    "name": "ipython",
    "version": 3
   },
   "file_extension": ".py",
   "mimetype": "text/x-python",
   "name": "python",
   "nbconvert_exporter": "python",
   "pygments_lexer": "ipython3",
   "version": "3.12.6"
  },
  "orig_nbformat": 4
 },
 "nbformat": 4,
 "nbformat_minor": 2
}
