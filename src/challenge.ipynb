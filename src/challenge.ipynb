{
 "cells": [
  {
   "cell_type": "markdown",
   "metadata": {},
   "source": [
    "En este archivo puedes escribir lo que estimes conveniente. Te recomendamos detallar tu solución y todas las suposiciones que estás considerando. Aquí puedes ejecutar las funciones que definiste en los otros archivos de la carpeta src, medir el tiempo, memoria, etc."
   ]
  },
  {
   "cell_type": "code",

   "execution_count": 1,
   "metadata": {},
   "outputs": [],
   "source": [
    "\n",
    "from typing import List, Tuple\n",
    "from memory_profiler import memory_usage\n",
    "import polars as pl\n",
    "import time\n",
    "import tracemalloc\n",
    "from typing import Callable, Any, List, Tuple\n",
    "import re\n",
    "import dask.dataframe as dd\n",
    "import numpy as np\n",
    "from q2_memory import q2_memory\n",
    "from q2_time import q2_time"

   "execution_count": 5,
   "metadata": {},
   "outputs": [],
   "source": [
    "import time\n",
    "from memory_profiler import memory_usage\n",
    "from q1_memory import q1_memory\n",
    "from q1_time import q1_time"
   ]
  },
  {
   "cell_type": "code",
   "execution_count": 2,
   "metadata": {},
   "outputs": [],
   "source": [

    "def measure_performance(file_path: str, func: callable):\n",
    "    start_time = time.time()\n",
    "    mem_usage = memory_usage((func, (file_path,)), interval=0.1)\n",
    "    end_time = time.time()\n",
    "    execution_time = end_time - start_time\n",
    "    print(f\"\\n⏱️ Tiempo de ejecución: {execution_time:.2f} segundos\")\n",
    "    print(f\"📊 Uso máximo de memoria: {max(mem_usage):.2f} MiB\")  # Mantener en MiB\n"

    "# Define the path to the JSONL file\n",
    "file_path = r\"C:\\Users\\Luci\\Documents\\GitHub\\challenge_latam\\src\\farmers-protest-tweets-2021-2-4.json\""
   ]
  },
  {
   "cell_type": "code",
   "execution_count": 3,
   "metadata": {},

   "outputs": [],
   "source": [
    "def measure_performance_avg(file_path: str, func: callable, runs: int = 3) -> Tuple[float, float]:\n",
    "    \"\"\"Función para medir el rendimiento promedio de la función dada.\"\"\"\n",
    "    total_time = 0\n",
    "    max_memory = []\n",
    "\n",
    "    for _ in range(runs):\n",
    "        start_time = time.time()\n",
    "        mem_usage = memory_usage((func, (file_path,)), interval=0.1)\n",
    "        end_time = time.time()\n",
    "        \n",
    "        total_time += (end_time - start_time)\n",
    "        max_memory.append(max(mem_usage))\n",
    "\n",
    "    avg_time = total_time / runs\n",
    "    avg_memory = sum(max_memory) / runs\n",
    "\n",
    "    return avg_time, avg_memory"
   ]
  },
  {
   "cell_type": "code",
   "execution_count": 4,
   "metadata": {},
   "outputs": [],
   "source": [
    "\n",
    "# Ejemplo de uso\n",
    "file_path = r\"C:\\Users\\Luci\\Documents\\GitHub\\challenge_latam\\src\\farmers-protest-tweets-2021-2-4.json\"\n"
   ]
  },
  {
   "cell_type": "code",
   "execution_count": 5,
   "metadata": {},
   "outputs": [
    {
     "name": "stdout",
     "output_type": "stream",
     "text": [

      "✅ JSONL file read successfully.\n"
     ]
    },
    {
     "name": "stderr",
     "output_type": "stream",
     "text": [
      "UserWarning: `df.groupby(categorical_by, sort=False)` implementation has mismatches with pandas:\n",
      "the groupby keys will be sorted anyway, although the 'sort=False' was passed. See the following issue for more details: https://github.com/modin-project/modin/issues/3571.\n"
     ]
    },
    {
     "name": "stdout",
     "output_type": "stream",
     "text": [
      "✅ JSONL file read successfully.\n",
      "✅ JSONL file read successfully.\n",
      "✅ JSONL file read successfully.\n"
     ]
    },
    {
     "name": "stderr",
     "output_type": "stream",
     "text": [
      "2024-09-27 01:19:48,161 - distributed.shuffle._scheduler_plugin - WARNING - Shuffle c6fb89b5f242cefe496292aa0bf22f1e initialized by task ('shuffle-transfer-c6fb89b5f242cefe496292aa0bf22f1e', 1) executed on worker tcp://127.0.0.1:54108\n",
      "2024-09-27 01:19:49,024 - distributed.shuffle._scheduler_plugin - WARNING - Shuffle c6fb89b5f242cefe496292aa0bf22f1e deactivated due to stimulus 'task-finished-1727410788.963962'\n"
     ]
    },
    {
     "name": "stdout",
     "output_type": "stream",
     "text": [
      "✅ JSONL file read successfully.\n"
     ]
    },
    {
     "name": "stderr",
     "output_type": "stream",
     "text": [
      "2024-09-27 01:19:50,710 - distributed.shuffle._scheduler_plugin - WARNING - Shuffle aaba6966b3cec12de33f9af5f09df70e initialized by task ('shuffle-transfer-aaba6966b3cec12de33f9af5f09df70e', 14) executed on worker tcp://127.0.0.1:54094\n",
      "2024-09-27 01:19:51,525 - distributed.shuffle._scheduler_plugin - WARNING - Shuffle aaba6966b3cec12de33f9af5f09df70e deactivated due to stimulus 'task-finished-1727410791.5237558'\n"
     ]
    },
    {
     "name": "stdout",
     "output_type": "stream",
     "text": [
      "✅ JSONL file read successfully.\n"
     ]
    },
    {
     "name": "stderr",
     "output_type": "stream",
     "text": [
      "2024-09-27 01:19:53,306 - distributed.shuffle._scheduler_plugin - WARNING - Shuffle b40ab9714d4254cce02c0a77be45ddd8 initialized by task ('shuffle-transfer-b40ab9714d4254cce02c0a77be45ddd8', 21) executed on worker tcp://127.0.0.1:54066\n",
      "2024-09-27 01:19:53,539 - distributed.shuffle._scheduler_plugin - WARNING - Shuffle b40ab9714d4254cce02c0a77be45ddd8 deactivated due to stimulus 'task-finished-1727410793.5376763'\n"

      "✅ Archivo JSONL leído exitosamente.\n",
      "\n",
      "⏱️ Tiempo de ejecución: 10.19 segundos\n",
      "✅ Archivo JSONL leído exitosamente.\n",
      "📊 Uso máximo de memoria: 168.8125 MiB\n",
      "\n",
      "Top 10 Fechas con más Tweets y Usuario con más actividad:\n",
      "[(datetime.date(2021, 2, 12), 'RanbirS00614606'), (datetime.date(2021, 2, 13), 'MaanDee08215437'), (datetime.date(2021, 2, 17), 'RaaJVinderkaur'), (datetime.date(2021, 2, 16), 'jot__b'), (datetime.date(2021, 2, 14), 'rebelpacifist'), (datetime.date(2021, 2, 18), 'neetuanjle_nitu'), (datetime.date(2021, 2, 15), 'jot__b'), (datetime.date(2021, 2, 20), 'MangalJ23056160'), (datetime.date(2021, 2, 23), 'Surrypuria'), (datetime.date(2021, 2, 19), 'Preetm91')]\n"

     ]
    }
   ],
   "source": [
    "avg_time_q2_memory, avg_memory_q2_memory = measure_performance_avg(file_path,q2_memory)\n",
    "avg_time_q2_time, avg_memory_q2_time = measure_performance_avg(file_path,q2_time)"
    "# Define a wrapper function to run the optimized function\n",
    "def run_q1_memory():\n",
    "    return q1_memory(file_path)\n",
    "\n",
    "# Measure execution time\n",
    "start_time = time.time()\n",
    "top_dates_memory_df = run_q1_memory()\n",
    "end_time = time.time()\n",
    "execution_time = end_time - start_time\n",
    "print(f\"\\n⏱️ Tiempo de ejecución: {execution_time:.2f} segundos\")\n",
    "mem_usage = memory_usage(run_q1_memory, interval=1, max_iterations=1)  # This calls q1_memory internally\n",
    "print(f\"📊 Uso máximo de memoria: {max(mem_usage)} MiB\")\n",
    "\n",
    "# Show results\n",
    "print(\"\\nTop 10 Fechas con más Tweets y Usuario con más actividad:\")\n",
    "print(top_dates_memory_df)\n"
   ]
  },
  {
   "cell_type": "code",
   "execution_count": 8,
   "execution_count": 4,
   "metadata": {},
   "outputs": [
    {
     "name": "stdout",
     "output_type": "stream",
     "text": [
      "\n",
      "  - Average time: 6.84 seconds, Average maximum memory usage: 234.40 MiB\n",
      "Dask - Average time: 2.77 seconds, Average maximum memory usage: 255.50 MiB\n"
      "✅ Archivo JSONL leído exitosamente.\n",
      "\n",
      "⏱️ Tiempo de ejecución: 1.36 segundos\n",
      "📊 Uso máximo de memoria: 281.21875 MiB\n",
      "✅ Archivo JSONL leído exitosamente.\n",
      "\n",
      "Top 10 Fechas con más Tweets y Usuario con más actividad:\n",
      "[(datetime.date(2021, 2, 12), 'RanbirS00614606'), (datetime.date(2021, 2, 13), 'MaanDee08215437'), (datetime.date(2021, 2, 17), 'RaaJVinderkaur'), (datetime.date(2021, 2, 16), 'jot__b'), (datetime.date(2021, 2, 14), 'rebelpacifist'), (datetime.date(2021, 2, 18), 'neetuanjle_nitu'), (datetime.date(2021, 2, 15), 'jot__b'), (datetime.date(2021, 2, 20), 'MangalJ23056160'), (datetime.date(2021, 2, 23), 'Surrypuria'), (datetime.date(2021, 2, 19), 'Preetm91')]\n"

     ]
    }
   ],
   "source": [

    "# Print the results\n",
    "print(f\"\\nModin - Average time: {avg_time_q2_memory:.2f} seconds, Average maximum memory usage: {avg_memory_q2_memory:.2f} MiB\")\n",
    "print(f\"Dask - Average time: {avg_time_q2_time:.2f} seconds, Average maximum memory usage: {avg_memory_q2_time:.2f} MiB\")\n"
    "# Definir una función wrapper para medir memoria y tiempo\n",
    "def run_dask_analysis():\n",
    "    return q1_time(file_path)\n",
    "\n",
    "# Medir el tiempo de ejecución\n",
    "start_time = time.time()\n",
    "mem_usage = memory_usage(run_dask_analysis, interval=1, max_iterations=1)\n",
    "execution_time = time.time() - start_time\n",
    "\n",
    "# Mostrar resultados de análisis de memoria y tiempo\n",
    "print(f\"\\n⏱️ Tiempo de ejecución: {execution_time:.2f} segundos\")\n",
    "print(f\"📊 Uso máximo de memoria: {max(mem_usage)} MiB\")\n",
    "\n",
    "# Mostrar el DataFrame con los resultados\n",
    "top_dates_memory_df = run_dask_analysis()\n",
    "print(\"\\nTop 10 Fechas con más Tweets y Usuario con más actividad:\")\n",
    "print(top_dates_memory_df)\n"
   ]
  }
 ],
 "metadata": {
  "kernelspec": {
   "display_name": "Python 3",
   "language": "python",
   "name": "python3"
  },
  "language_info": {
   "codemirror_mode": {
    "name": "ipython",
    "version": 3
   },
   "file_extension": ".py",
   "mimetype": "text/x-python",
   "name": "python",
   "nbconvert_exporter": "python",
   "pygments_lexer": "ipython3",
   "version": "3.12.6"
  },
  "orig_nbformat": 4
 },
 "nbformat": 4,
 "nbformat_minor": 2
}
